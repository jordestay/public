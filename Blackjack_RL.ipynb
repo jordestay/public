{
  "nbformat": 4,
  "nbformat_minor": 0,
  "metadata": {
    "colab": {
      "provenance": [],
      "collapsed_sections": [],
      "include_colab_link": true
    },
    "kernelspec": {
      "name": "python3",
      "display_name": "Python 3"
    },
    "language_info": {
      "name": "python"
    }
  },
  "cells": [
    {
      "cell_type": "markdown",
      "metadata": {
        "id": "view-in-github",
        "colab_type": "text"
      },
      "source": [
        "<a href=\"https://colab.research.google.com/github/jordestay/public/blob/main/Blackjack_RL.ipynb\" target=\"_parent\"><img src=\"https://colab.research.google.com/assets/colab-badge.svg\" alt=\"Open In Colab\"/></a>"
      ]
    },
    {
      "cell_type": "markdown",
      "source": [
        "# Imports"
      ],
      "metadata": {
        "id": "MaqZJU481m6g"
      }
    },
    {
      "cell_type": "code",
      "source": [
        "import numpy as np\n",
        "import matplotlib.pyplot as plt\n",
        "import seaborn as sns\n",
        "\n",
        "import gym"
      ],
      "metadata": {
        "id": "-38XmbiP1miM"
      },
      "execution_count": null,
      "outputs": []
    },
    {
      "cell_type": "markdown",
      "source": [
        "# Gym Environment"
      ],
      "metadata": {
        "id": "N2iRbhhv1-7l"
      }
    },
    {
      "cell_type": "code",
      "source": [
        "# https://github.com/openai/gym/blob/master/gym/envs/toy_text/blackjack.py\n",
        "environment = gym.make(\n",
        "    \"Blackjack-v1\",   # environment name\n",
        "    natural=True,     # flag to payout 1.5x on a \"natural\" blackjack win\n",
        "    new_step_api=True # avoids warnings and allows future compatibility\n",
        ")"
      ],
      "metadata": {
        "id": "nkD7AxdZ1fD8"
      },
      "execution_count": null,
      "outputs": []
    },
    {
      "cell_type": "markdown",
      "source": [
        "# Agent"
      ],
      "metadata": {
        "id": "5LQZQ8RT1xVV"
      }
    },
    {
      "cell_type": "code",
      "source": [
        "class Agent(object):\n",
        "    def __init__(self):\n",
        "        self.value_table = np.zeros(shape=(32, 11, 2))\n",
        "\n",
        "    def act(self, observation):\n",
        "        if observation[1] >= 9:\n",
        "            if observation[0] >= 16:\n",
        "                return 0\n",
        "            else:\n",
        "                return 1\n",
        "\n",
        "        else:\n",
        "            if observation[0] >= 12:\n",
        "                return 0\n",
        "            else:\n",
        "                return 1"
      ],
      "metadata": {
        "id": "WnXCeFYI1w4l"
      },
      "execution_count": null,
      "outputs": []
    },
    {
      "cell_type": "markdown",
      "source": [
        "# Play one simulation with our agent"
      ],
      "metadata": {
        "id": "XIOaH9Sj17wi"
      }
    },
    {
      "cell_type": "code",
      "source": [
        "agent = Agent()\n",
        "done = False\n",
        "\n",
        "# done flag gets set to true/false from the environment's `step`\n",
        "state = environment.reset()\n",
        "while not done:\n",
        "    action = agent.act(state)\n",
        "    next_state, reward, done, _, _ = environment.step(action)\n",
        "\n",
        "    agent.value_table[next_state] += reward\n",
        "\n",
        "    state = next_state\n",
        "\n",
        "\n",
        "print(f\"Our hand sum: {state[0]}\")\n",
        "print(f\"Our score: {reward}\")"
      ],
      "metadata": {
        "colab": {
          "base_uri": "https://localhost:8080/"
        },
        "id": "UBV4UE9917TA",
        "outputId": "a9b74b4b-98a7-4904-d7af-36b68d49490e"
      },
      "execution_count": null,
      "outputs": [
        {
          "output_type": "stream",
          "name": "stdout",
          "text": [
            "Our hand sum: 21\n",
            "Our score: 1.0\n"
          ]
        }
      ]
    },
    {
      "cell_type": "markdown",
      "source": [
        "# Play multiple simulations with our agent"
      ],
      "metadata": {
        "id": "UV5INbTf3Wti"
      }
    },
    {
      "cell_type": "code",
      "source": [
        "# Start with variables that should persist between simulations\n",
        "agent = Agent()\n",
        "total_wins = 0\n",
        "total_losses = 0\n",
        "\n",
        "average_reward = 0\n",
        "average_rewards = []\n",
        "\n",
        "# Loop for N simulations\n",
        "for iteration in range(1, 10_000):\n",
        "\n",
        "    # Remember to reset the environment!\n",
        "    state = environment.reset()\n",
        "    done = False\n",
        "\n",
        "    # Play until the environment/simulation is complete\n",
        "    while not done:\n",
        "        action = agent.act(state)\n",
        "        next_state, reward, done, _, _ = environment.step(action)\n",
        "\n",
        "        agent.value_table[state] += (reward - agent.value_table[state]) * 0.001\n",
        "\n",
        "        state = next_state\n",
        "\n",
        "    # Metric logging\n",
        "    if reward == -1.0:\n",
        "        total_losses += 1\n",
        "    else:\n",
        "        total_wins += 1\n",
        "\n",
        "    average_reward *= iteration\n",
        "    average_reward += reward\n",
        "    average_reward /= iteration\n",
        "\n",
        "    average_rewards.append(average_reward)"
      ],
      "metadata": {
        "id": "iaKs5TuT2YzI"
      },
      "execution_count": null,
      "outputs": []
    },
    {
      "cell_type": "markdown",
      "source": [
        "# Metric printing and plotting"
      ],
      "metadata": {
        "id": "yraOE3t64Vmg"
      }
    },
    {
      "cell_type": "code",
      "source": [
        "print(f\"Total Wins: {total_wins}\")\n",
        "print(f\"Total Losses: {total_losses}\")"
      ],
      "metadata": {
        "colab": {
          "base_uri": "https://localhost:8080/"
        },
        "id": "9KWpsWeT4NR6",
        "outputId": "e3f57c32-c9d0-4cf9-d348-ec95b63e7698"
      },
      "execution_count": null,
      "outputs": [
        {
          "output_type": "stream",
          "name": "stdout",
          "text": [
            "Total Wins: 4894\n",
            "Total Losses: 5105\n"
          ]
        }
      ]
    },
    {
      "cell_type": "code",
      "source": [
        "plt.plot([x for x in range(9999)], average_rewards)\n",
        "plt.show()"
      ],
      "metadata": {
        "colab": {
          "base_uri": "https://localhost:8080/",
          "height": 265
        },
        "id": "TcpGT1I-DSil",
        "outputId": "07234e8f-e571-4ddd-eea1-9361664af82f"
      },
      "execution_count": null,
      "outputs": [
        {
          "output_type": "display_data",
          "data": {
            "text/plain": [
              "<Figure size 432x288 with 1 Axes>"
            ],
            "image/png": "[encoded data removed]"
          },
          "metadata": {
            "needs_background": "light"
          }
        }
      ]
    },
    {
      "cell_type": "code",
      "source": [
        "sns.heatmap(agent.value_table[12:22, 1:, 0])\n",
        "plt.title(\"No usable ace\")"
      ],
      "metadata": {
        "colab": {
          "base_uri": "https://localhost:8080/",
          "height": 298
        },
        "id": "GzRy7_EYFUkq",
        "outputId": "dfe621c6-b0c5-4437-ed61-1b14579f9ec7"
      },
      "execution_count": null,
      "outputs": [
        {
          "output_type": "execute_result",
          "data": {
            "text/plain": [
              "Text(0.5, 1.0, 'No usable ace')"
            ]
          },
          "metadata": {},
          "execution_count": 101
        },
        {
          "output_type": "display_data",
          "data": {
            "text/plain": [
              "<Figure size 432x288 with 2 Axes>"
            ],
            "image/png": "[encoded data removed]"
          },
          "metadata": {
            "needs_background": "light"
          }
        }
      ]
    },
    {
      "cell_type": "code",
      "source": [
        "sns.heatmap(agent.value_table[12:22, 1:, 1])\n",
        "plt.title(\"Usable ace\")"
      ],
      "metadata": {
        "colab": {
          "base_uri": "https://localhost:8080/",
          "height": 298
        },
        "id": "oYnV1ivDFXCW",
        "outputId": "7c9aed28-68b3-4aad-dc99-6eb298f35240"
      },
      "execution_count": null,
      "outputs": [
        {
          "output_type": "execute_result",
          "data": {
            "text/plain": [
              "Text(0.5, 1.0, 'Usable ace')"
            ]
          },
          "metadata": {},
          "execution_count": 102
        },
        {
          "output_type": "display_data",
          "data": {
            "text/plain": [
              "<Figure size 432x288 with 2 Axes>"
            ],
            "image/png": "[encoded data removed]"
          },
          "metadata": {
            "needs_background": "light"
          }
        }
      ]
    },
    {
      "cell_type": "code",
      "source": [],
      "metadata": {
        "id": "em8heGLoFetq"
      },
      "execution_count": null,
      "outputs": []
    }
  ]
}